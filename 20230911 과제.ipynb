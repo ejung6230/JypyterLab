{
 "cells": [
  {
   "cell_type": "code",
   "execution_count": 4,
   "id": "33022369-bab0-4edb-8717-9c270c393aed",
   "metadata": {
    "tags": []
   },
   "outputs": [
    {
     "data": {
      "text/plain": [
       "[80, 60, 70, 50, 90]"
      ]
     },
     "execution_count": 4,
     "metadata": {},
     "output_type": "execute_result"
    }
   ],
   "source": [
    "# 시험 점수 변수 만들고 출력하기\n",
    "score=[80,60,70,50,90]\n",
    "score"
   ]
  },
  {
   "cell_type": "code",
   "execution_count": 5,
   "id": "dc5cd908-5f96-4e2a-a909-f7ded679f9b4",
   "metadata": {
    "tags": []
   },
   "outputs": [
    {
     "data": {
      "text/plain": [
       "350"
      ]
     },
     "execution_count": 5,
     "metadata": {},
     "output_type": "execute_result"
    }
   ],
   "source": [
    "# 합계 점수 구하기\n",
    "sum(score)"
   ]
  },
  {
   "cell_type": "code",
   "execution_count": 6,
   "id": "dc80929f-44ca-42f6-8394-e45874abac8a",
   "metadata": {
    "tags": []
   },
   "outputs": [
    {
     "data": {
      "text/plain": [
       "350"
      ]
     },
     "execution_count": 6,
     "metadata": {},
     "output_type": "execute_result"
    }
   ],
   "source": [
    "# 합계 점수 변수 만들어 출력하기\n",
    "sumScore=sum(score)\n",
    "sumScore"
   ]
  },
  {
   "cell_type": "code",
   "execution_count": 12,
   "id": "33c8f586-0ff1-4834-9a94-8d05ed003c12",
   "metadata": {
    "tags": []
   },
   "outputs": [
    {
     "data": {
      "text/plain": [
       "0.42857142857142855"
      ]
     },
     "execution_count": 12,
     "metadata": {},
     "output_type": "execute_result"
    }
   ],
   "source": [
    "from sklearn import metrics as met\n",
    "x1=[1,2,3,4,5,6,7]\n",
    "x2=[1,0,3,4,2,5,6]\n",
    "met.accuracy_score(x1,x2)"
   ]
  },
  {
   "cell_type": "code",
   "execution_count": 13,
   "id": "24b0c849-f59d-4469-a94a-e00e2132b134",
   "metadata": {
    "tags": []
   },
   "outputs": [
    {
     "name": "stdout",
     "output_type": "stream",
     "text": [
      "[80, 60, 70, 50, 90]\n"
     ]
    }
   ],
   "source": [
    "score=[80,60,70,50,90]\n",
    "print(score)"
   ]
  },
  {
   "cell_type": "code",
   "execution_count": 14,
   "id": "730fde88-3884-4002-9c4d-d858506b42e4",
   "metadata": {
    "tags": []
   },
   "outputs": [
    {
     "data": {
      "text/plain": [
       "350"
      ]
     },
     "execution_count": 14,
     "metadata": {},
     "output_type": "execute_result"
    }
   ],
   "source": [
    "sum(score)"
   ]
  },
  {
   "cell_type": "code",
   "execution_count": 17,
   "id": "78049c04-0249-479c-b60b-ee1c362dfb85",
   "metadata": {
    "tags": []
   },
   "outputs": [
    {
     "name": "stdout",
     "output_type": "stream",
     "text": [
      "90\n",
      "50\n"
     ]
    }
   ],
   "source": [
    "print(max(score))\n",
    "print(min(score))"
   ]
  },
  {
   "cell_type": "code",
   "execution_count": 18,
   "id": "049619b9-fe2f-442a-9f64-e3def85a517b",
   "metadata": {
    "tags": []
   },
   "outputs": [],
   "source": [
    "SUM=sum(score)"
   ]
  },
  {
   "cell_type": "code",
   "execution_count": 19,
   "id": "7dda1ed5-0573-4c57-81d0-faa992785998",
   "metadata": {
    "tags": []
   },
   "outputs": [
    {
     "data": {
      "text/plain": [
       "350"
      ]
     },
     "execution_count": 19,
     "metadata": {},
     "output_type": "execute_result"
    }
   ],
   "source": [
    "SUM"
   ]
  },
  {
   "cell_type": "code",
   "execution_count": null,
   "id": "9fec4ea7-a1c9-4db5-a239-a4063c60c56a",
   "metadata": {},
   "outputs": [],
   "source": []
  }
 ],
 "metadata": {
  "kernelspec": {
   "display_name": "Python 3 (ipykernel)",
   "language": "python",
   "name": "python3"
  },
  "language_info": {
   "codemirror_mode": {
    "name": "ipython",
    "version": 3
   },
   "file_extension": ".py",
   "mimetype": "text/x-python",
   "name": "python",
   "nbconvert_exporter": "python",
   "pygments_lexer": "ipython3",
   "version": "3.11.5"
  }
 },
 "nbformat": 4,
 "nbformat_minor": 5
}
