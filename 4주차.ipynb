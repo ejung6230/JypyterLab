{
 "cells": [
  {
   "cell_type": "code",
   "execution_count": 3,
   "id": "e877d8fc-3d80-4277-9a8b-b011d63146a3",
   "metadata": {
    "tags": []
   },
   "outputs": [],
   "source": [
    "import pandas as pd"
   ]
  },
  {
   "cell_type": "code",
   "execution_count": 4,
   "id": "3612739b-96fe-46b8-88d0-cc0b7c13b157",
   "metadata": {
    "tags": []
   },
   "outputs": [],
   "source": [
    "mpg = pd.read_csv('mpg.csv')"
   ]
  },
  {
   "cell_type": "code",
   "execution_count": 5,
   "id": "8ae4e189-be4f-4d0d-96d5-260b9aeae219",
   "metadata": {
    "tags": []
   },
   "outputs": [],
   "source": [
    "copy_mpg = mpg.copy()"
   ]
  },
  {
   "cell_type": "code",
   "execution_count": 6,
   "id": "d28aacc9-0b8d-4a32-af46-e0dce006c852",
   "metadata": {
    "tags": []
   },
   "outputs": [],
   "source": [
    "copy_mpg=copy_mpg.rename(columns = {'cty' : 'city', 'hwy' : 'highway'})"
   ]
  },
  {
   "cell_type": "code",
   "execution_count": 7,
   "id": "5725bcb0-b06c-4982-a6d2-65aad94e5a6d",
   "metadata": {
    "tags": []
   },
   "outputs": [],
   "source": [
    "import pandas as pd"
   ]
  },
  {
   "cell_type": "code",
   "execution_count": 8,
   "id": "28893707-0222-470e-90ca-970addcd8df2",
   "metadata": {
    "tags": []
   },
   "outputs": [],
   "source": [
    "df_raw=pd.DataFrame({'var1':[1,2,1],'var2':[2,3,2]})"
   ]
  },
  {
   "cell_type": "code",
   "execution_count": 9,
   "id": "d69652c6-d52c-4393-8378-a06efee43948",
   "metadata": {
    "tags": []
   },
   "outputs": [
    {
     "data": {
      "text/html": [
       "<div>\n",
       "<style scoped>\n",
       "    .dataframe tbody tr th:only-of-type {\n",
       "        vertical-align: middle;\n",
       "    }\n",
       "\n",
       "    .dataframe tbody tr th {\n",
       "        vertical-align: top;\n",
       "    }\n",
       "\n",
       "    .dataframe thead th {\n",
       "        text-align: right;\n",
       "    }\n",
       "</style>\n",
       "<table border=\"1\" class=\"dataframe\">\n",
       "  <thead>\n",
       "    <tr style=\"text-align: right;\">\n",
       "      <th></th>\n",
       "      <th>var1</th>\n",
       "      <th>var2</th>\n",
       "    </tr>\n",
       "  </thead>\n",
       "  <tbody>\n",
       "    <tr>\n",
       "      <th>0</th>\n",
       "      <td>1</td>\n",
       "      <td>2</td>\n",
       "    </tr>\n",
       "    <tr>\n",
       "      <th>1</th>\n",
       "      <td>2</td>\n",
       "      <td>3</td>\n",
       "    </tr>\n",
       "    <tr>\n",
       "      <th>2</th>\n",
       "      <td>1</td>\n",
       "      <td>2</td>\n",
       "    </tr>\n",
       "  </tbody>\n",
       "</table>\n",
       "</div>"
      ],
      "text/plain": [
       "   var1  var2\n",
       "0     1     2\n",
       "1     2     3\n",
       "2     1     2"
      ]
     },
     "execution_count": 9,
     "metadata": {},
     "output_type": "execute_result"
    }
   ],
   "source": [
    "df_raw"
   ]
  },
  {
   "cell_type": "code",
   "execution_count": 10,
   "id": "ac40ced1-b4a0-4d19-a517-ec7770b43839",
   "metadata": {
    "tags": []
   },
   "outputs": [],
   "source": [
    "df_new=df_raw.copy()"
   ]
  },
  {
   "cell_type": "code",
   "execution_count": 11,
   "id": "9ff58677-141a-4eed-8e8c-f6200aa23830",
   "metadata": {
    "tags": []
   },
   "outputs": [
    {
     "data": {
      "text/html": [
       "<div>\n",
       "<style scoped>\n",
       "    .dataframe tbody tr th:only-of-type {\n",
       "        vertical-align: middle;\n",
       "    }\n",
       "\n",
       "    .dataframe tbody tr th {\n",
       "        vertical-align: top;\n",
       "    }\n",
       "\n",
       "    .dataframe thead th {\n",
       "        text-align: right;\n",
       "    }\n",
       "</style>\n",
       "<table border=\"1\" class=\"dataframe\">\n",
       "  <thead>\n",
       "    <tr style=\"text-align: right;\">\n",
       "      <th></th>\n",
       "      <th>var1</th>\n",
       "      <th>var2</th>\n",
       "    </tr>\n",
       "  </thead>\n",
       "  <tbody>\n",
       "    <tr>\n",
       "      <th>0</th>\n",
       "      <td>1</td>\n",
       "      <td>2</td>\n",
       "    </tr>\n",
       "    <tr>\n",
       "      <th>1</th>\n",
       "      <td>2</td>\n",
       "      <td>3</td>\n",
       "    </tr>\n",
       "    <tr>\n",
       "      <th>2</th>\n",
       "      <td>1</td>\n",
       "      <td>2</td>\n",
       "    </tr>\n",
       "  </tbody>\n",
       "</table>\n",
       "</div>"
      ],
      "text/plain": [
       "   var1  var2\n",
       "0     1     2\n",
       "1     2     3\n",
       "2     1     2"
      ]
     },
     "execution_count": 11,
     "metadata": {},
     "output_type": "execute_result"
    }
   ],
   "source": [
    "df_new"
   ]
  },
  {
   "cell_type": "code",
   "execution_count": 12,
   "id": "6e324699-0eb8-4084-85ce-fab9fb79c172",
   "metadata": {
    "tags": []
   },
   "outputs": [],
   "source": [
    "a=[1,2,3]"
   ]
  },
  {
   "cell_type": "code",
   "execution_count": 13,
   "id": "92fe4b19-e663-404e-997a-a4789076b507",
   "metadata": {
    "tags": []
   },
   "outputs": [],
   "source": [
    "b=a"
   ]
  },
  {
   "cell_type": "code",
   "execution_count": 14,
   "id": "ce710d2e-4511-4f46-b188-200033bacee3",
   "metadata": {
    "tags": []
   },
   "outputs": [
    {
     "data": {
      "text/plain": [
       "[1, 2, 3]"
      ]
     },
     "execution_count": 14,
     "metadata": {},
     "output_type": "execute_result"
    }
   ],
   "source": [
    "b"
   ]
  },
  {
   "cell_type": "code",
   "execution_count": 15,
   "id": "725813c7-3dc0-47ef-8344-2d272157787f",
   "metadata": {
    "tags": []
   },
   "outputs": [
    {
     "data": {
      "text/plain": [
       "1995447799296"
      ]
     },
     "execution_count": 15,
     "metadata": {},
     "output_type": "execute_result"
    }
   ],
   "source": [
    "id(a)"
   ]
  },
  {
   "cell_type": "code",
   "execution_count": 16,
   "id": "d9ae7a72-d6f5-4e79-8358-8f6f060f5eb7",
   "metadata": {
    "tags": []
   },
   "outputs": [
    {
     "data": {
      "text/plain": [
       "1995447799296"
      ]
     },
     "execution_count": 16,
     "metadata": {},
     "output_type": "execute_result"
    }
   ],
   "source": [
    "id(b)"
   ]
  },
  {
   "cell_type": "code",
   "execution_count": 17,
   "id": "6d39a7fa-3db3-4fdc-8665-0f392c74f4bb",
   "metadata": {
    "tags": []
   },
   "outputs": [],
   "source": [
    "a[1]=50"
   ]
  },
  {
   "cell_type": "code",
   "execution_count": 18,
   "id": "18a56b35-8c72-4a8e-98e9-e6f720b47749",
   "metadata": {
    "tags": []
   },
   "outputs": [
    {
     "data": {
      "text/plain": [
       "[1, 50, 3]"
      ]
     },
     "execution_count": 18,
     "metadata": {},
     "output_type": "execute_result"
    }
   ],
   "source": [
    "a"
   ]
  },
  {
   "cell_type": "code",
   "execution_count": 19,
   "id": "e98f39f2-bf9b-41a2-b301-aaf8f47f2ad3",
   "metadata": {
    "tags": []
   },
   "outputs": [
    {
     "data": {
      "text/plain": [
       "[1, 50, 3]"
      ]
     },
     "execution_count": 19,
     "metadata": {},
     "output_type": "execute_result"
    }
   ],
   "source": [
    "b"
   ]
  },
  {
   "cell_type": "code",
   "execution_count": 20,
   "id": "12537a3f-8d8b-4763-82ed-908c2bc1f73b",
   "metadata": {
    "tags": []
   },
   "outputs": [
    {
     "data": {
      "text/html": [
       "<div>\n",
       "<style scoped>\n",
       "    .dataframe tbody tr th:only-of-type {\n",
       "        vertical-align: middle;\n",
       "    }\n",
       "\n",
       "    .dataframe tbody tr th {\n",
       "        vertical-align: top;\n",
       "    }\n",
       "\n",
       "    .dataframe thead th {\n",
       "        text-align: right;\n",
       "    }\n",
       "</style>\n",
       "<table border=\"1\" class=\"dataframe\">\n",
       "  <thead>\n",
       "    <tr style=\"text-align: right;\">\n",
       "      <th></th>\n",
       "      <th>var1</th>\n",
       "      <th>V2</th>\n",
       "    </tr>\n",
       "  </thead>\n",
       "  <tbody>\n",
       "    <tr>\n",
       "      <th>0</th>\n",
       "      <td>1</td>\n",
       "      <td>2</td>\n",
       "    </tr>\n",
       "    <tr>\n",
       "      <th>1</th>\n",
       "      <td>2</td>\n",
       "      <td>3</td>\n",
       "    </tr>\n",
       "    <tr>\n",
       "      <th>2</th>\n",
       "      <td>1</td>\n",
       "      <td>2</td>\n",
       "    </tr>\n",
       "  </tbody>\n",
       "</table>\n",
       "</div>"
      ],
      "text/plain": [
       "   var1  V2\n",
       "0     1   2\n",
       "1     2   3\n",
       "2     1   2"
      ]
     },
     "execution_count": 20,
     "metadata": {},
     "output_type": "execute_result"
    }
   ],
   "source": [
    "df_new.rename(columns = {'var2':'V2'})"
   ]
  },
  {
   "cell_type": "code",
   "execution_count": 21,
   "id": "47a6c6a0-5073-4697-a572-967fda2137bb",
   "metadata": {
    "tags": []
   },
   "outputs": [
    {
     "data": {
      "text/plain": [
       "1995447635344"
      ]
     },
     "execution_count": 21,
     "metadata": {},
     "output_type": "execute_result"
    }
   ],
   "source": [
    "id(mpg)"
   ]
  },
  {
   "cell_type": "code",
   "execution_count": 22,
   "id": "c5c5bb35-2e4d-4457-bdc5-1563c9ad80a4",
   "metadata": {
    "tags": []
   },
   "outputs": [
    {
     "data": {
      "text/plain": [
       "1995416003088"
      ]
     },
     "execution_count": 22,
     "metadata": {},
     "output_type": "execute_result"
    }
   ],
   "source": [
    "id(copy_mpg)"
   ]
  },
  {
   "cell_type": "code",
   "execution_count": 23,
   "id": "e793a5ac-0053-4ded-885e-a4b8daf5675e",
   "metadata": {
    "tags": []
   },
   "outputs": [
    {
     "data": {
      "text/html": [
       "<div>\n",
       "<style scoped>\n",
       "    .dataframe tbody tr th:only-of-type {\n",
       "        vertical-align: middle;\n",
       "    }\n",
       "\n",
       "    .dataframe tbody tr th {\n",
       "        vertical-align: top;\n",
       "    }\n",
       "\n",
       "    .dataframe thead th {\n",
       "        text-align: right;\n",
       "    }\n",
       "</style>\n",
       "<table border=\"1\" class=\"dataframe\">\n",
       "  <thead>\n",
       "    <tr style=\"text-align: right;\">\n",
       "      <th></th>\n",
       "      <th>manufacturer</th>\n",
       "      <th>model</th>\n",
       "      <th>displ</th>\n",
       "      <th>year</th>\n",
       "      <th>cyl</th>\n",
       "      <th>trans</th>\n",
       "      <th>drv</th>\n",
       "      <th>city</th>\n",
       "      <th>highway</th>\n",
       "      <th>fl</th>\n",
       "      <th>category</th>\n",
       "    </tr>\n",
       "  </thead>\n",
       "  <tbody>\n",
       "    <tr>\n",
       "      <th>0</th>\n",
       "      <td>audi</td>\n",
       "      <td>a4</td>\n",
       "      <td>1.8</td>\n",
       "      <td>1999</td>\n",
       "      <td>4</td>\n",
       "      <td>auto(l5)</td>\n",
       "      <td>f</td>\n",
       "      <td>18</td>\n",
       "      <td>29</td>\n",
       "      <td>p</td>\n",
       "      <td>compact</td>\n",
       "    </tr>\n",
       "    <tr>\n",
       "      <th>1</th>\n",
       "      <td>audi</td>\n",
       "      <td>a4</td>\n",
       "      <td>1.8</td>\n",
       "      <td>1999</td>\n",
       "      <td>4</td>\n",
       "      <td>manual(m5)</td>\n",
       "      <td>f</td>\n",
       "      <td>21</td>\n",
       "      <td>29</td>\n",
       "      <td>p</td>\n",
       "      <td>compact</td>\n",
       "    </tr>\n",
       "    <tr>\n",
       "      <th>2</th>\n",
       "      <td>audi</td>\n",
       "      <td>a4</td>\n",
       "      <td>2.0</td>\n",
       "      <td>2008</td>\n",
       "      <td>4</td>\n",
       "      <td>manual(m6)</td>\n",
       "      <td>f</td>\n",
       "      <td>20</td>\n",
       "      <td>31</td>\n",
       "      <td>p</td>\n",
       "      <td>compact</td>\n",
       "    </tr>\n",
       "    <tr>\n",
       "      <th>3</th>\n",
       "      <td>audi</td>\n",
       "      <td>a4</td>\n",
       "      <td>2.0</td>\n",
       "      <td>2008</td>\n",
       "      <td>4</td>\n",
       "      <td>auto(av)</td>\n",
       "      <td>f</td>\n",
       "      <td>21</td>\n",
       "      <td>30</td>\n",
       "      <td>p</td>\n",
       "      <td>compact</td>\n",
       "    </tr>\n",
       "    <tr>\n",
       "      <th>4</th>\n",
       "      <td>audi</td>\n",
       "      <td>a4</td>\n",
       "      <td>2.8</td>\n",
       "      <td>1999</td>\n",
       "      <td>6</td>\n",
       "      <td>auto(l5)</td>\n",
       "      <td>f</td>\n",
       "      <td>16</td>\n",
       "      <td>26</td>\n",
       "      <td>p</td>\n",
       "      <td>compact</td>\n",
       "    </tr>\n",
       "    <tr>\n",
       "      <th>...</th>\n",
       "      <td>...</td>\n",
       "      <td>...</td>\n",
       "      <td>...</td>\n",
       "      <td>...</td>\n",
       "      <td>...</td>\n",
       "      <td>...</td>\n",
       "      <td>...</td>\n",
       "      <td>...</td>\n",
       "      <td>...</td>\n",
       "      <td>...</td>\n",
       "      <td>...</td>\n",
       "    </tr>\n",
       "    <tr>\n",
       "      <th>229</th>\n",
       "      <td>volkswagen</td>\n",
       "      <td>passat</td>\n",
       "      <td>2.0</td>\n",
       "      <td>2008</td>\n",
       "      <td>4</td>\n",
       "      <td>auto(s6)</td>\n",
       "      <td>f</td>\n",
       "      <td>19</td>\n",
       "      <td>28</td>\n",
       "      <td>p</td>\n",
       "      <td>midsize</td>\n",
       "    </tr>\n",
       "    <tr>\n",
       "      <th>230</th>\n",
       "      <td>volkswagen</td>\n",
       "      <td>passat</td>\n",
       "      <td>2.0</td>\n",
       "      <td>2008</td>\n",
       "      <td>4</td>\n",
       "      <td>manual(m6)</td>\n",
       "      <td>f</td>\n",
       "      <td>21</td>\n",
       "      <td>29</td>\n",
       "      <td>p</td>\n",
       "      <td>midsize</td>\n",
       "    </tr>\n",
       "    <tr>\n",
       "      <th>231</th>\n",
       "      <td>volkswagen</td>\n",
       "      <td>passat</td>\n",
       "      <td>2.8</td>\n",
       "      <td>1999</td>\n",
       "      <td>6</td>\n",
       "      <td>auto(l5)</td>\n",
       "      <td>f</td>\n",
       "      <td>16</td>\n",
       "      <td>26</td>\n",
       "      <td>p</td>\n",
       "      <td>midsize</td>\n",
       "    </tr>\n",
       "    <tr>\n",
       "      <th>232</th>\n",
       "      <td>volkswagen</td>\n",
       "      <td>passat</td>\n",
       "      <td>2.8</td>\n",
       "      <td>1999</td>\n",
       "      <td>6</td>\n",
       "      <td>manual(m5)</td>\n",
       "      <td>f</td>\n",
       "      <td>18</td>\n",
       "      <td>26</td>\n",
       "      <td>p</td>\n",
       "      <td>midsize</td>\n",
       "    </tr>\n",
       "    <tr>\n",
       "      <th>233</th>\n",
       "      <td>volkswagen</td>\n",
       "      <td>passat</td>\n",
       "      <td>3.6</td>\n",
       "      <td>2008</td>\n",
       "      <td>6</td>\n",
       "      <td>auto(s6)</td>\n",
       "      <td>f</td>\n",
       "      <td>17</td>\n",
       "      <td>26</td>\n",
       "      <td>p</td>\n",
       "      <td>midsize</td>\n",
       "    </tr>\n",
       "  </tbody>\n",
       "</table>\n",
       "<p>234 rows × 11 columns</p>\n",
       "</div>"
      ],
      "text/plain": [
       "    manufacturer   model  displ  year  cyl       trans drv  city  highway fl  \\\n",
       "0           audi      a4    1.8  1999    4    auto(l5)   f    18       29  p   \n",
       "1           audi      a4    1.8  1999    4  manual(m5)   f    21       29  p   \n",
       "2           audi      a4    2.0  2008    4  manual(m6)   f    20       31  p   \n",
       "3           audi      a4    2.0  2008    4    auto(av)   f    21       30  p   \n",
       "4           audi      a4    2.8  1999    6    auto(l5)   f    16       26  p   \n",
       "..           ...     ...    ...   ...  ...         ...  ..   ...      ... ..   \n",
       "229   volkswagen  passat    2.0  2008    4    auto(s6)   f    19       28  p   \n",
       "230   volkswagen  passat    2.0  2008    4  manual(m6)   f    21       29  p   \n",
       "231   volkswagen  passat    2.8  1999    6    auto(l5)   f    16       26  p   \n",
       "232   volkswagen  passat    2.8  1999    6  manual(m5)   f    18       26  p   \n",
       "233   volkswagen  passat    3.6  2008    6    auto(s6)   f    17       26  p   \n",
       "\n",
       "    category  \n",
       "0    compact  \n",
       "1    compact  \n",
       "2    compact  \n",
       "3    compact  \n",
       "4    compact  \n",
       "..       ...  \n",
       "229  midsize  \n",
       "230  midsize  \n",
       "231  midsize  \n",
       "232  midsize  \n",
       "233  midsize  \n",
       "\n",
       "[234 rows x 11 columns]"
      ]
     },
     "execution_count": 23,
     "metadata": {},
     "output_type": "execute_result"
    }
   ],
   "source": [
    "copy_mpg"
   ]
  },
  {
   "cell_type": "code",
   "execution_count": 24,
   "id": "881a9052-5c42-4d70-b794-cd800cfe3f73",
   "metadata": {
    "tags": []
   },
   "outputs": [],
   "source": [
    "import pandas as pd"
   ]
  },
  {
   "cell_type": "code",
   "execution_count": 25,
   "id": "0dbfc98b-fcda-43e1-bdda-07399040bec2",
   "metadata": {
    "tags": []
   },
   "outputs": [],
   "source": [
    "mpg=pd.read_csv('mpg.csv')"
   ]
  },
  {
   "cell_type": "code",
   "execution_count": 26,
   "id": "27527b3e-13ca-4a85-a5f6-ca18f1686433",
   "metadata": {
    "tags": []
   },
   "outputs": [],
   "source": [
    "mpg['total_sum']=mpg['cty']+mpg['hwy']"
   ]
  },
  {
   "cell_type": "code",
   "execution_count": 27,
   "id": "3b29353c-1f28-4026-92ec-87ca92d6a025",
   "metadata": {
    "tags": []
   },
   "outputs": [],
   "source": [
    "mpg['total']=mpg['cty']+mpg['hwy']/2"
   ]
  },
  {
   "cell_type": "code",
   "execution_count": 28,
   "id": "8bf7399f-8489-4271-827b-b57136814e3e",
   "metadata": {
    "tags": []
   },
   "outputs": [
    {
     "data": {
      "text/html": [
       "<div>\n",
       "<style scoped>\n",
       "    .dataframe tbody tr th:only-of-type {\n",
       "        vertical-align: middle;\n",
       "    }\n",
       "\n",
       "    .dataframe tbody tr th {\n",
       "        vertical-align: top;\n",
       "    }\n",
       "\n",
       "    .dataframe thead th {\n",
       "        text-align: right;\n",
       "    }\n",
       "</style>\n",
       "<table border=\"1\" class=\"dataframe\">\n",
       "  <thead>\n",
       "    <tr style=\"text-align: right;\">\n",
       "      <th></th>\n",
       "      <th>manufacturer</th>\n",
       "      <th>model</th>\n",
       "      <th>displ</th>\n",
       "      <th>year</th>\n",
       "      <th>cyl</th>\n",
       "      <th>trans</th>\n",
       "      <th>drv</th>\n",
       "      <th>cty</th>\n",
       "      <th>hwy</th>\n",
       "      <th>fl</th>\n",
       "      <th>category</th>\n",
       "      <th>total_sum</th>\n",
       "      <th>total</th>\n",
       "    </tr>\n",
       "  </thead>\n",
       "  <tbody>\n",
       "    <tr>\n",
       "      <th>0</th>\n",
       "      <td>audi</td>\n",
       "      <td>a4</td>\n",
       "      <td>1.8</td>\n",
       "      <td>1999</td>\n",
       "      <td>4</td>\n",
       "      <td>auto(l5)</td>\n",
       "      <td>f</td>\n",
       "      <td>18</td>\n",
       "      <td>29</td>\n",
       "      <td>p</td>\n",
       "      <td>compact</td>\n",
       "      <td>47</td>\n",
       "      <td>32.5</td>\n",
       "    </tr>\n",
       "    <tr>\n",
       "      <th>1</th>\n",
       "      <td>audi</td>\n",
       "      <td>a4</td>\n",
       "      <td>1.8</td>\n",
       "      <td>1999</td>\n",
       "      <td>4</td>\n",
       "      <td>manual(m5)</td>\n",
       "      <td>f</td>\n",
       "      <td>21</td>\n",
       "      <td>29</td>\n",
       "      <td>p</td>\n",
       "      <td>compact</td>\n",
       "      <td>50</td>\n",
       "      <td>35.5</td>\n",
       "    </tr>\n",
       "    <tr>\n",
       "      <th>2</th>\n",
       "      <td>audi</td>\n",
       "      <td>a4</td>\n",
       "      <td>2.0</td>\n",
       "      <td>2008</td>\n",
       "      <td>4</td>\n",
       "      <td>manual(m6)</td>\n",
       "      <td>f</td>\n",
       "      <td>20</td>\n",
       "      <td>31</td>\n",
       "      <td>p</td>\n",
       "      <td>compact</td>\n",
       "      <td>51</td>\n",
       "      <td>35.5</td>\n",
       "    </tr>\n",
       "    <tr>\n",
       "      <th>3</th>\n",
       "      <td>audi</td>\n",
       "      <td>a4</td>\n",
       "      <td>2.0</td>\n",
       "      <td>2008</td>\n",
       "      <td>4</td>\n",
       "      <td>auto(av)</td>\n",
       "      <td>f</td>\n",
       "      <td>21</td>\n",
       "      <td>30</td>\n",
       "      <td>p</td>\n",
       "      <td>compact</td>\n",
       "      <td>51</td>\n",
       "      <td>36.0</td>\n",
       "    </tr>\n",
       "    <tr>\n",
       "      <th>4</th>\n",
       "      <td>audi</td>\n",
       "      <td>a4</td>\n",
       "      <td>2.8</td>\n",
       "      <td>1999</td>\n",
       "      <td>6</td>\n",
       "      <td>auto(l5)</td>\n",
       "      <td>f</td>\n",
       "      <td>16</td>\n",
       "      <td>26</td>\n",
       "      <td>p</td>\n",
       "      <td>compact</td>\n",
       "      <td>42</td>\n",
       "      <td>29.0</td>\n",
       "    </tr>\n",
       "  </tbody>\n",
       "</table>\n",
       "</div>"
      ],
      "text/plain": [
       "  manufacturer model  displ  year  cyl       trans drv  cty  hwy fl category  \\\n",
       "0         audi    a4    1.8  1999    4    auto(l5)   f   18   29  p  compact   \n",
       "1         audi    a4    1.8  1999    4  manual(m5)   f   21   29  p  compact   \n",
       "2         audi    a4    2.0  2008    4  manual(m6)   f   20   31  p  compact   \n",
       "3         audi    a4    2.0  2008    4    auto(av)   f   21   30  p  compact   \n",
       "4         audi    a4    2.8  1999    6    auto(l5)   f   16   26  p  compact   \n",
       "\n",
       "   total_sum  total  \n",
       "0         47   32.5  \n",
       "1         50   35.5  \n",
       "2         51   35.5  \n",
       "3         51   36.0  \n",
       "4         42   29.0  "
      ]
     },
     "execution_count": 28,
     "metadata": {},
     "output_type": "execute_result"
    }
   ],
   "source": [
    "mpg.head()"
   ]
  },
  {
   "cell_type": "code",
   "execution_count": 39,
   "id": "525fb454-8e20-4b2c-bfae-390b10a212db",
   "metadata": {
    "tags": []
   },
   "outputs": [],
   "source": [
    "mpg['test']=np.where(mpg['total'] >= 20,'pass','fail',)"
   ]
  },
  {
   "cell_type": "code",
   "execution_count": 40,
   "id": "d67ab290-768a-4619-951b-6a6c6e99559e",
   "metadata": {
    "tags": []
   },
   "outputs": [
    {
     "data": {
      "text/html": [
       "<div>\n",
       "<style scoped>\n",
       "    .dataframe tbody tr th:only-of-type {\n",
       "        vertical-align: middle;\n",
       "    }\n",
       "\n",
       "    .dataframe tbody tr th {\n",
       "        vertical-align: top;\n",
       "    }\n",
       "\n",
       "    .dataframe thead th {\n",
       "        text-align: right;\n",
       "    }\n",
       "</style>\n",
       "<table border=\"1\" class=\"dataframe\">\n",
       "  <thead>\n",
       "    <tr style=\"text-align: right;\">\n",
       "      <th></th>\n",
       "      <th>manufacturer</th>\n",
       "      <th>model</th>\n",
       "      <th>displ</th>\n",
       "      <th>year</th>\n",
       "      <th>cyl</th>\n",
       "      <th>trans</th>\n",
       "      <th>drv</th>\n",
       "      <th>cty</th>\n",
       "      <th>hwy</th>\n",
       "      <th>fl</th>\n",
       "      <th>category</th>\n",
       "      <th>total_sum</th>\n",
       "      <th>total</th>\n",
       "      <th>test</th>\n",
       "    </tr>\n",
       "  </thead>\n",
       "  <tbody>\n",
       "    <tr>\n",
       "      <th>0</th>\n",
       "      <td>audi</td>\n",
       "      <td>a4</td>\n",
       "      <td>1.8</td>\n",
       "      <td>1999</td>\n",
       "      <td>4</td>\n",
       "      <td>auto(l5)</td>\n",
       "      <td>f</td>\n",
       "      <td>18</td>\n",
       "      <td>29</td>\n",
       "      <td>p</td>\n",
       "      <td>compact</td>\n",
       "      <td>47</td>\n",
       "      <td>32.5</td>\n",
       "      <td>pass</td>\n",
       "    </tr>\n",
       "    <tr>\n",
       "      <th>1</th>\n",
       "      <td>audi</td>\n",
       "      <td>a4</td>\n",
       "      <td>1.8</td>\n",
       "      <td>1999</td>\n",
       "      <td>4</td>\n",
       "      <td>manual(m5)</td>\n",
       "      <td>f</td>\n",
       "      <td>21</td>\n",
       "      <td>29</td>\n",
       "      <td>p</td>\n",
       "      <td>compact</td>\n",
       "      <td>50</td>\n",
       "      <td>35.5</td>\n",
       "      <td>pass</td>\n",
       "    </tr>\n",
       "    <tr>\n",
       "      <th>2</th>\n",
       "      <td>audi</td>\n",
       "      <td>a4</td>\n",
       "      <td>2.0</td>\n",
       "      <td>2008</td>\n",
       "      <td>4</td>\n",
       "      <td>manual(m6)</td>\n",
       "      <td>f</td>\n",
       "      <td>20</td>\n",
       "      <td>31</td>\n",
       "      <td>p</td>\n",
       "      <td>compact</td>\n",
       "      <td>51</td>\n",
       "      <td>35.5</td>\n",
       "      <td>pass</td>\n",
       "    </tr>\n",
       "    <tr>\n",
       "      <th>3</th>\n",
       "      <td>audi</td>\n",
       "      <td>a4</td>\n",
       "      <td>2.0</td>\n",
       "      <td>2008</td>\n",
       "      <td>4</td>\n",
       "      <td>auto(av)</td>\n",
       "      <td>f</td>\n",
       "      <td>21</td>\n",
       "      <td>30</td>\n",
       "      <td>p</td>\n",
       "      <td>compact</td>\n",
       "      <td>51</td>\n",
       "      <td>36.0</td>\n",
       "      <td>pass</td>\n",
       "    </tr>\n",
       "    <tr>\n",
       "      <th>4</th>\n",
       "      <td>audi</td>\n",
       "      <td>a4</td>\n",
       "      <td>2.8</td>\n",
       "      <td>1999</td>\n",
       "      <td>6</td>\n",
       "      <td>auto(l5)</td>\n",
       "      <td>f</td>\n",
       "      <td>16</td>\n",
       "      <td>26</td>\n",
       "      <td>p</td>\n",
       "      <td>compact</td>\n",
       "      <td>42</td>\n",
       "      <td>29.0</td>\n",
       "      <td>pass</td>\n",
       "    </tr>\n",
       "  </tbody>\n",
       "</table>\n",
       "</div>"
      ],
      "text/plain": [
       "  manufacturer model  displ  year  cyl       trans drv  cty  hwy fl category  \\\n",
       "0         audi    a4    1.8  1999    4    auto(l5)   f   18   29  p  compact   \n",
       "1         audi    a4    1.8  1999    4  manual(m5)   f   21   29  p  compact   \n",
       "2         audi    a4    2.0  2008    4  manual(m6)   f   20   31  p  compact   \n",
       "3         audi    a4    2.0  2008    4    auto(av)   f   21   30  p  compact   \n",
       "4         audi    a4    2.8  1999    6    auto(l5)   f   16   26  p  compact   \n",
       "\n",
       "   total_sum  total  test  \n",
       "0         47   32.5  pass  \n",
       "1         50   35.5  pass  \n",
       "2         51   35.5  pass  \n",
       "3         51   36.0  pass  \n",
       "4         42   29.0  pass  "
      ]
     },
     "execution_count": 40,
     "metadata": {},
     "output_type": "execute_result"
    }
   ],
   "source": [
    "mpg.head()"
   ]
  },
  {
   "cell_type": "code",
   "execution_count": 41,
   "id": "4554a422-073e-45f8-b72c-55c107b9d0f1",
   "metadata": {
    "tags": []
   },
   "outputs": [
    {
     "data": {
      "text/plain": [
       "count    234.000000\n",
       "mean      28.579060\n",
       "std        7.155624\n",
       "min       15.000000\n",
       "25%       22.500000\n",
       "50%       29.000000\n",
       "75%       32.875000\n",
       "max       57.000000\n",
       "Name: total, dtype: float64"
      ]
     },
     "execution_count": 41,
     "metadata": {},
     "output_type": "execute_result"
    }
   ],
   "source": [
    "mpg['total'].describe()"
   ]
  },
  {
   "cell_type": "code",
   "execution_count": 42,
   "id": "3d7cafb4-e839-4df1-bf55-a4a497750002",
   "metadata": {
    "tags": []
   },
   "outputs": [
    {
     "data": {
      "text/plain": [
       "<Axes: ylabel='Frequency'>"
      ]
     },
     "execution_count": 42,
     "metadata": {},
     "output_type": "execute_result"
    },
    {
     "data": {
      "image/png": "[encoded data removed]",
      "text/plain": [
       "<Figure size 640x480 with 1 Axes>"
      ]
     },
     "metadata": {},
     "output_type": "display_data"
    }
   ],
   "source": [
    "mpg['total'].plot.hist()"
   ]
  },
  {
   "cell_type": "code",
   "execution_count": 43,
   "id": "26c233fa-e6c9-4799-8847-17eb484b27e7",
   "metadata": {
    "tags": []
   },
   "outputs": [],
   "source": [
    "import numpy as np"
   ]
  },
  {
   "cell_type": "code",
   "execution_count": 50,
   "id": "46820feb-cf25-4f51-a6e5-a107a29291d3",
   "metadata": {
    "tags": []
   },
   "outputs": [
    {
     "data": {
      "text/plain": [
       "test\n",
       "fail     25\n",
       "pass    209\n",
       "Name: count, dtype: int64"
      ]
     },
     "execution_count": 50,
     "metadata": {},
     "output_type": "execute_result"
    }
   ],
   "source": [
    "count_test=mpg['test'].value_counts().sort_index()\n",
    "count_test"
   ]
  },
  {
   "cell_type": "code",
   "execution_count": 49,
   "id": "ddf10561-74a2-46d2-8a52-2d4ff1f1069f",
   "metadata": {},
   "outputs": [
    {
     "data": {
      "text/plain": [
       "<Axes: xlabel='test'>"
      ]
     },
     "execution_count": 49,
     "metadata": {},
     "output_type": "execute_result"
    },
    {
     "data": {
      "image/png": "[encoded data removed]",
      "text/plain": [
       "<Figure size 640x480 with 1 Axes>"
      ]
     },
     "metadata": {},
     "output_type": "display_data"
    }
   ],
   "source": [
    "count_test.plot.bar(rot=0)"
   ]
  },
  {
   "cell_type": "code",
   "execution_count": 51,
   "id": "2e31aac6-8b5b-4c3a-bffa-3dcd261fa984",
   "metadata": {
    "tags": []
   },
   "outputs": [],
   "source": [
    "import numpy as np"
   ]
  },
  {
   "cell_type": "code",
   "execution_count": 53,
   "id": "16fcfabc-3077-40ad-a9c4-71fb81e336f7",
   "metadata": {
    "tags": []
   },
   "outputs": [],
   "source": [
    "mpg['grade']=np.where(mpg['total'] >= 30,'A',\n",
    "                     np.where(mpg['total']>=20,'B','C'))"
   ]
  },
  {
   "cell_type": "code",
   "execution_count": 54,
   "id": "bc056977-35da-4752-8251-b3152c1af9f9",
   "metadata": {
    "tags": []
   },
   "outputs": [
    {
     "data": {
      "text/html": [
       "<div>\n",
       "<style scoped>\n",
       "    .dataframe tbody tr th:only-of-type {\n",
       "        vertical-align: middle;\n",
       "    }\n",
       "\n",
       "    .dataframe tbody tr th {\n",
       "        vertical-align: top;\n",
       "    }\n",
       "\n",
       "    .dataframe thead th {\n",
       "        text-align: right;\n",
       "    }\n",
       "</style>\n",
       "<table border=\"1\" class=\"dataframe\">\n",
       "  <thead>\n",
       "    <tr style=\"text-align: right;\">\n",
       "      <th></th>\n",
       "      <th>manufacturer</th>\n",
       "      <th>model</th>\n",
       "      <th>displ</th>\n",
       "      <th>year</th>\n",
       "      <th>cyl</th>\n",
       "      <th>trans</th>\n",
       "      <th>drv</th>\n",
       "      <th>cty</th>\n",
       "      <th>hwy</th>\n",
       "      <th>fl</th>\n",
       "      <th>category</th>\n",
       "      <th>total_sum</th>\n",
       "      <th>total</th>\n",
       "      <th>test</th>\n",
       "      <th>grade</th>\n",
       "    </tr>\n",
       "  </thead>\n",
       "  <tbody>\n",
       "    <tr>\n",
       "      <th>0</th>\n",
       "      <td>audi</td>\n",
       "      <td>a4</td>\n",
       "      <td>1.8</td>\n",
       "      <td>1999</td>\n",
       "      <td>4</td>\n",
       "      <td>auto(l5)</td>\n",
       "      <td>f</td>\n",
       "      <td>18</td>\n",
       "      <td>29</td>\n",
       "      <td>p</td>\n",
       "      <td>compact</td>\n",
       "      <td>47</td>\n",
       "      <td>32.5</td>\n",
       "      <td>pass</td>\n",
       "      <td>A</td>\n",
       "    </tr>\n",
       "    <tr>\n",
       "      <th>1</th>\n",
       "      <td>audi</td>\n",
       "      <td>a4</td>\n",
       "      <td>1.8</td>\n",
       "      <td>1999</td>\n",
       "      <td>4</td>\n",
       "      <td>manual(m5)</td>\n",
       "      <td>f</td>\n",
       "      <td>21</td>\n",
       "      <td>29</td>\n",
       "      <td>p</td>\n",
       "      <td>compact</td>\n",
       "      <td>50</td>\n",
       "      <td>35.5</td>\n",
       "      <td>pass</td>\n",
       "      <td>A</td>\n",
       "    </tr>\n",
       "    <tr>\n",
       "      <th>2</th>\n",
       "      <td>audi</td>\n",
       "      <td>a4</td>\n",
       "      <td>2.0</td>\n",
       "      <td>2008</td>\n",
       "      <td>4</td>\n",
       "      <td>manual(m6)</td>\n",
       "      <td>f</td>\n",
       "      <td>20</td>\n",
       "      <td>31</td>\n",
       "      <td>p</td>\n",
       "      <td>compact</td>\n",
       "      <td>51</td>\n",
       "      <td>35.5</td>\n",
       "      <td>pass</td>\n",
       "      <td>A</td>\n",
       "    </tr>\n",
       "    <tr>\n",
       "      <th>3</th>\n",
       "      <td>audi</td>\n",
       "      <td>a4</td>\n",
       "      <td>2.0</td>\n",
       "      <td>2008</td>\n",
       "      <td>4</td>\n",
       "      <td>auto(av)</td>\n",
       "      <td>f</td>\n",
       "      <td>21</td>\n",
       "      <td>30</td>\n",
       "      <td>p</td>\n",
       "      <td>compact</td>\n",
       "      <td>51</td>\n",
       "      <td>36.0</td>\n",
       "      <td>pass</td>\n",
       "      <td>A</td>\n",
       "    </tr>\n",
       "    <tr>\n",
       "      <th>4</th>\n",
       "      <td>audi</td>\n",
       "      <td>a4</td>\n",
       "      <td>2.8</td>\n",
       "      <td>1999</td>\n",
       "      <td>6</td>\n",
       "      <td>auto(l5)</td>\n",
       "      <td>f</td>\n",
       "      <td>16</td>\n",
       "      <td>26</td>\n",
       "      <td>p</td>\n",
       "      <td>compact</td>\n",
       "      <td>42</td>\n",
       "      <td>29.0</td>\n",
       "      <td>pass</td>\n",
       "      <td>B</td>\n",
       "    </tr>\n",
       "  </tbody>\n",
       "</table>\n",
       "</div>"
      ],
      "text/plain": [
       "  manufacturer model  displ  year  cyl       trans drv  cty  hwy fl category  \\\n",
       "0         audi    a4    1.8  1999    4    auto(l5)   f   18   29  p  compact   \n",
       "1         audi    a4    1.8  1999    4  manual(m5)   f   21   29  p  compact   \n",
       "2         audi    a4    2.0  2008    4  manual(m6)   f   20   31  p  compact   \n",
       "3         audi    a4    2.0  2008    4    auto(av)   f   21   30  p  compact   \n",
       "4         audi    a4    2.8  1999    6    auto(l5)   f   16   26  p  compact   \n",
       "\n",
       "   total_sum  total  test grade  \n",
       "0         47   32.5  pass     A  \n",
       "1         50   35.5  pass     A  \n",
       "2         51   35.5  pass     A  \n",
       "3         51   36.0  pass     A  \n",
       "4         42   29.0  pass     B  "
      ]
     },
     "execution_count": 54,
     "metadata": {},
     "output_type": "execute_result"
    }
   ],
   "source": [
    "mpg.head()"
   ]
  },
  {
   "cell_type": "code",
   "execution_count": 61,
   "id": "bd47b081-29aa-4490-8e2b-af00ef304213",
   "metadata": {
    "tags": []
   },
   "outputs": [],
   "source": [
    "count_grade=mpg['grade'].value_counts().sort_index()"
   ]
  },
  {
   "cell_type": "code",
   "execution_count": 62,
   "id": "69fc0a56-8e0c-453c-83ce-186ca2b43abb",
   "metadata": {
    "tags": []
   },
   "outputs": [
    {
     "data": {
      "text/plain": [
       "grade\n",
       "A    105\n",
       "B    104\n",
       "C     25\n",
       "Name: count, dtype: int64"
      ]
     },
     "execution_count": 62,
     "metadata": {},
     "output_type": "execute_result"
    }
   ],
   "source": [
    "count_grade"
   ]
  },
  {
   "cell_type": "code",
   "execution_count": 63,
   "id": "743aeb5a-396d-4c71-bec6-71ee05494db3",
   "metadata": {
    "tags": []
   },
   "outputs": [
    {
     "data": {
      "text/plain": [
       "<Axes: xlabel='grade'>"
      ]
     },
     "execution_count": 63,
     "metadata": {},
     "output_type": "execute_result"
    },
    {
     "data": {
      "image/png": "[encoded data removed]",
      "text/plain": [
       "<Figure size 640x480 with 1 Axes>"
      ]
     },
     "metadata": {},
     "output_type": "display_data"
    }
   ],
   "source": [
    "count_grade.plot.bar(rot=0)"
   ]
  },
  {
   "cell_type": "code",
   "execution_count": 65,
   "id": "eaa3cf2b-a251-4580-9f31-567825031595",
   "metadata": {
    "tags": []
   },
   "outputs": [
    {
     "data": {
      "text/plain": [
       "category\n",
       "suv           62\n",
       "compact       47\n",
       "midsize       41\n",
       "subcompact    35\n",
       "pickup        33\n",
       "minivan       11\n",
       "2seater        5\n",
       "Name: count, dtype: int64"
      ]
     },
     "execution_count": 65,
     "metadata": {},
     "output_type": "execute_result"
    }
   ],
   "source": [
    "mpg['category'].value_counts()"
   ]
  },
  {
   "cell_type": "code",
   "execution_count": 68,
   "id": "22f0819d-b7fc-4907-84b3-70b8b9e9011f",
   "metadata": {
    "tags": []
   },
   "outputs": [],
   "source": [
    "mpg['size']=np.where((mpg['category'] == 'compact') |\n",
    "                   (mpg['category'] == 'subcompact') |\n",
    "                  (mpg['category'] == '2seater'),'small','large')"
   ]
  },
  {
   "cell_type": "code",
   "execution_count": 69,
   "id": "04797ee7-0472-4fb4-83c4-fd370f057cc9",
   "metadata": {
    "tags": []
   },
   "outputs": [
    {
     "data": {
      "text/plain": [
       "size\n",
       "large    147\n",
       "small     87\n",
       "Name: count, dtype: int64"
      ]
     },
     "execution_count": 69,
     "metadata": {},
     "output_type": "execute_result"
    }
   ],
   "source": [
    "mpg['size'].value_counts()"
   ]
  },
  {
   "cell_type": "code",
   "execution_count": 71,
   "id": "749b7813-bf94-46cd-b812-9a30ef081f2c",
   "metadata": {
    "tags": []
   },
   "outputs": [],
   "source": [
    "mpg['size']=np.where(mpg['category'].isin(['compact','subcompact', '2seater']),\n",
    "                     'small','large')"
   ]
  },
  {
   "cell_type": "code",
   "execution_count": 72,
   "id": "a63590fb-cb6b-486a-8a6e-8e580803b091",
   "metadata": {
    "tags": []
   },
   "outputs": [
    {
     "data": {
      "text/plain": [
       "size\n",
       "large    147\n",
       "small     87\n",
       "Name: count, dtype: int64"
      ]
     },
     "execution_count": 72,
     "metadata": {},
     "output_type": "execute_result"
    }
   ],
   "source": [
    "mpg['size'].value_counts()"
   ]
  },
  {
   "cell_type": "code",
   "execution_count": 73,
   "id": "1743003f-e18f-41b7-a248-5c327e7565cd",
   "metadata": {
    "tags": []
   },
   "outputs": [],
   "source": [
    "import pandas as pd"
   ]
  },
  {
   "cell_type": "code",
   "execution_count": 75,
   "id": "6e0df010-1586-41b6-b352-df049ef89676",
   "metadata": {
    "tags": []
   },
   "outputs": [],
   "source": [
    "midwest=pd.read_csv('midwest.csv')"
   ]
  },
  {
   "cell_type": "code",
   "execution_count": 76,
   "id": "32941fcd-9728-4bcb-97a0-ee3168c1f51d",
   "metadata": {
    "tags": []
   },
   "outputs": [
    {
     "data": {
      "text/html": [
       "<div>\n",
       "<style scoped>\n",
       "    .dataframe tbody tr th:only-of-type {\n",
       "        vertical-align: middle;\n",
       "    }\n",
       "\n",
       "    .dataframe tbody tr th {\n",
       "        vertical-align: top;\n",
       "    }\n",
       "\n",
       "    .dataframe thead th {\n",
       "        text-align: right;\n",
       "    }\n",
       "</style>\n",
       "<table border=\"1\" class=\"dataframe\">\n",
       "  <thead>\n",
       "    <tr style=\"text-align: right;\">\n",
       "      <th></th>\n",
       "      <th>PID</th>\n",
       "      <th>county</th>\n",
       "      <th>state</th>\n",
       "      <th>area</th>\n",
       "      <th>poptotal</th>\n",
       "      <th>popdensity</th>\n",
       "      <th>popwhite</th>\n",
       "      <th>popblack</th>\n",
       "      <th>popamerindian</th>\n",
       "      <th>popasian</th>\n",
       "      <th>...</th>\n",
       "      <th>percollege</th>\n",
       "      <th>percprof</th>\n",
       "      <th>poppovertyknown</th>\n",
       "      <th>percpovertyknown</th>\n",
       "      <th>percbelowpoverty</th>\n",
       "      <th>percchildbelowpovert</th>\n",
       "      <th>percadultpoverty</th>\n",
       "      <th>percelderlypoverty</th>\n",
       "      <th>inmetro</th>\n",
       "      <th>category</th>\n",
       "    </tr>\n",
       "  </thead>\n",
       "  <tbody>\n",
       "    <tr>\n",
       "      <th>0</th>\n",
       "      <td>561</td>\n",
       "      <td>ADAMS</td>\n",
       "      <td>IL</td>\n",
       "      <td>0.052</td>\n",
       "      <td>66090</td>\n",
       "      <td>1270.961540</td>\n",
       "      <td>63917</td>\n",
       "      <td>1702</td>\n",
       "      <td>98</td>\n",
       "      <td>249</td>\n",
       "      <td>...</td>\n",
       "      <td>19.631392</td>\n",
       "      <td>4.355859</td>\n",
       "      <td>63628</td>\n",
       "      <td>96.274777</td>\n",
       "      <td>13.151443</td>\n",
       "      <td>18.011717</td>\n",
       "      <td>11.009776</td>\n",
       "      <td>12.443812</td>\n",
       "      <td>0</td>\n",
       "      <td>AAR</td>\n",
       "    </tr>\n",
       "    <tr>\n",
       "      <th>1</th>\n",
       "      <td>562</td>\n",
       "      <td>ALEXANDER</td>\n",
       "      <td>IL</td>\n",
       "      <td>0.014</td>\n",
       "      <td>10626</td>\n",
       "      <td>759.000000</td>\n",
       "      <td>7054</td>\n",
       "      <td>3496</td>\n",
       "      <td>19</td>\n",
       "      <td>48</td>\n",
       "      <td>...</td>\n",
       "      <td>11.243308</td>\n",
       "      <td>2.870315</td>\n",
       "      <td>10529</td>\n",
       "      <td>99.087145</td>\n",
       "      <td>32.244278</td>\n",
       "      <td>45.826514</td>\n",
       "      <td>27.385647</td>\n",
       "      <td>25.228976</td>\n",
       "      <td>0</td>\n",
       "      <td>LHR</td>\n",
       "    </tr>\n",
       "    <tr>\n",
       "      <th>2</th>\n",
       "      <td>563</td>\n",
       "      <td>BOND</td>\n",
       "      <td>IL</td>\n",
       "      <td>0.022</td>\n",
       "      <td>14991</td>\n",
       "      <td>681.409091</td>\n",
       "      <td>14477</td>\n",
       "      <td>429</td>\n",
       "      <td>35</td>\n",
       "      <td>16</td>\n",
       "      <td>...</td>\n",
       "      <td>17.033819</td>\n",
       "      <td>4.488572</td>\n",
       "      <td>14235</td>\n",
       "      <td>94.956974</td>\n",
       "      <td>12.068844</td>\n",
       "      <td>14.036061</td>\n",
       "      <td>10.852090</td>\n",
       "      <td>12.697410</td>\n",
       "      <td>0</td>\n",
       "      <td>AAR</td>\n",
       "    </tr>\n",
       "    <tr>\n",
       "      <th>3</th>\n",
       "      <td>564</td>\n",
       "      <td>BOONE</td>\n",
       "      <td>IL</td>\n",
       "      <td>0.017</td>\n",
       "      <td>30806</td>\n",
       "      <td>1812.117650</td>\n",
       "      <td>29344</td>\n",
       "      <td>127</td>\n",
       "      <td>46</td>\n",
       "      <td>150</td>\n",
       "      <td>...</td>\n",
       "      <td>17.278954</td>\n",
       "      <td>4.197800</td>\n",
       "      <td>30337</td>\n",
       "      <td>98.477569</td>\n",
       "      <td>7.209019</td>\n",
       "      <td>11.179536</td>\n",
       "      <td>5.536013</td>\n",
       "      <td>6.217047</td>\n",
       "      <td>1</td>\n",
       "      <td>ALU</td>\n",
       "    </tr>\n",
       "    <tr>\n",
       "      <th>4</th>\n",
       "      <td>565</td>\n",
       "      <td>BROWN</td>\n",
       "      <td>IL</td>\n",
       "      <td>0.018</td>\n",
       "      <td>5836</td>\n",
       "      <td>324.222222</td>\n",
       "      <td>5264</td>\n",
       "      <td>547</td>\n",
       "      <td>14</td>\n",
       "      <td>5</td>\n",
       "      <td>...</td>\n",
       "      <td>14.475999</td>\n",
       "      <td>3.367680</td>\n",
       "      <td>4815</td>\n",
       "      <td>82.505140</td>\n",
       "      <td>13.520249</td>\n",
       "      <td>13.022889</td>\n",
       "      <td>11.143211</td>\n",
       "      <td>19.200000</td>\n",
       "      <td>0</td>\n",
       "      <td>AAR</td>\n",
       "    </tr>\n",
       "  </tbody>\n",
       "</table>\n",
       "<p>5 rows × 28 columns</p>\n",
       "</div>"
      ],
      "text/plain": [
       "   PID     county state   area  poptotal   popdensity  popwhite  popblack  \\\n",
       "0  561      ADAMS    IL  0.052     66090  1270.961540     63917      1702   \n",
       "1  562  ALEXANDER    IL  0.014     10626   759.000000      7054      3496   \n",
       "2  563       BOND    IL  0.022     14991   681.409091     14477       429   \n",
       "3  564      BOONE    IL  0.017     30806  1812.117650     29344       127   \n",
       "4  565      BROWN    IL  0.018      5836   324.222222      5264       547   \n",
       "\n",
       "   popamerindian  popasian  ...  percollege  percprof  poppovertyknown  \\\n",
       "0             98       249  ...   19.631392  4.355859            63628   \n",
       "1             19        48  ...   11.243308  2.870315            10529   \n",
       "2             35        16  ...   17.033819  4.488572            14235   \n",
       "3             46       150  ...   17.278954  4.197800            30337   \n",
       "4             14         5  ...   14.475999  3.367680             4815   \n",
       "\n",
       "   percpovertyknown  percbelowpoverty  percchildbelowpovert  percadultpoverty  \\\n",
       "0         96.274777         13.151443             18.011717         11.009776   \n",
       "1         99.087145         32.244278             45.826514         27.385647   \n",
       "2         94.956974         12.068844             14.036061         10.852090   \n",
       "3         98.477569          7.209019             11.179536          5.536013   \n",
       "4         82.505140         13.520249             13.022889         11.143211   \n",
       "\n",
       "   percelderlypoverty  inmetro  category  \n",
       "0           12.443812        0       AAR  \n",
       "1           25.228976        0       LHR  \n",
       "2           12.697410        0       AAR  \n",
       "3            6.217047        1       ALU  \n",
       "4           19.200000        0       AAR  \n",
       "\n",
       "[5 rows x 28 columns]"
      ]
     },
     "execution_count": 76,
     "metadata": {},
     "output_type": "execute_result"
    }
   ],
   "source": [
    "midwest.head()"
   ]
  },
  {
   "cell_type": "code",
   "execution_count": 77,
   "id": "cc6c3a42-0352-4e15-81eb-c39beca51bad",
   "metadata": {
    "tags": []
   },
   "outputs": [
    {
     "data": {
      "text/html": [
       "<div>\n",
       "<style scoped>\n",
       "    .dataframe tbody tr th:only-of-type {\n",
       "        vertical-align: middle;\n",
       "    }\n",
       "\n",
       "    .dataframe tbody tr th {\n",
       "        vertical-align: top;\n",
       "    }\n",
       "\n",
       "    .dataframe thead th {\n",
       "        text-align: right;\n",
       "    }\n",
       "</style>\n",
       "<table border=\"1\" class=\"dataframe\">\n",
       "  <thead>\n",
       "    <tr style=\"text-align: right;\">\n",
       "      <th></th>\n",
       "      <th>PID</th>\n",
       "      <th>county</th>\n",
       "      <th>state</th>\n",
       "      <th>area</th>\n",
       "      <th>poptotal</th>\n",
       "      <th>popdensity</th>\n",
       "      <th>popwhite</th>\n",
       "      <th>popblack</th>\n",
       "      <th>popamerindian</th>\n",
       "      <th>popasian</th>\n",
       "      <th>...</th>\n",
       "      <th>percollege</th>\n",
       "      <th>percprof</th>\n",
       "      <th>poppovertyknown</th>\n",
       "      <th>percpovertyknown</th>\n",
       "      <th>percbelowpoverty</th>\n",
       "      <th>percchildbelowpovert</th>\n",
       "      <th>percadultpoverty</th>\n",
       "      <th>percelderlypoverty</th>\n",
       "      <th>inmetro</th>\n",
       "      <th>category</th>\n",
       "    </tr>\n",
       "  </thead>\n",
       "  <tbody>\n",
       "    <tr>\n",
       "      <th>432</th>\n",
       "      <td>3048</td>\n",
       "      <td>WAUKESHA</td>\n",
       "      <td>WI</td>\n",
       "      <td>0.034</td>\n",
       "      <td>304715</td>\n",
       "      <td>8962.205880</td>\n",
       "      <td>298313</td>\n",
       "      <td>1096</td>\n",
       "      <td>672</td>\n",
       "      <td>2699</td>\n",
       "      <td>...</td>\n",
       "      <td>35.396784</td>\n",
       "      <td>7.667090</td>\n",
       "      <td>299802</td>\n",
       "      <td>98.387674</td>\n",
       "      <td>3.121060</td>\n",
       "      <td>3.785820</td>\n",
       "      <td>2.590061</td>\n",
       "      <td>4.085479</td>\n",
       "      <td>1</td>\n",
       "      <td>HLU</td>\n",
       "    </tr>\n",
       "    <tr>\n",
       "      <th>433</th>\n",
       "      <td>3049</td>\n",
       "      <td>WAUPACA</td>\n",
       "      <td>WI</td>\n",
       "      <td>0.045</td>\n",
       "      <td>46104</td>\n",
       "      <td>1024.533330</td>\n",
       "      <td>45695</td>\n",
       "      <td>22</td>\n",
       "      <td>125</td>\n",
       "      <td>92</td>\n",
       "      <td>...</td>\n",
       "      <td>16.549869</td>\n",
       "      <td>3.138596</td>\n",
       "      <td>44412</td>\n",
       "      <td>96.330036</td>\n",
       "      <td>8.488697</td>\n",
       "      <td>10.071411</td>\n",
       "      <td>6.953799</td>\n",
       "      <td>10.338641</td>\n",
       "      <td>0</td>\n",
       "      <td>AAR</td>\n",
       "    </tr>\n",
       "    <tr>\n",
       "      <th>434</th>\n",
       "      <td>3050</td>\n",
       "      <td>WAUSHARA</td>\n",
       "      <td>WI</td>\n",
       "      <td>0.037</td>\n",
       "      <td>19385</td>\n",
       "      <td>523.918919</td>\n",
       "      <td>19094</td>\n",
       "      <td>29</td>\n",
       "      <td>70</td>\n",
       "      <td>43</td>\n",
       "      <td>...</td>\n",
       "      <td>15.064584</td>\n",
       "      <td>2.620907</td>\n",
       "      <td>19163</td>\n",
       "      <td>98.854785</td>\n",
       "      <td>13.786985</td>\n",
       "      <td>20.050708</td>\n",
       "      <td>11.695784</td>\n",
       "      <td>11.804558</td>\n",
       "      <td>0</td>\n",
       "      <td>AAR</td>\n",
       "    </tr>\n",
       "    <tr>\n",
       "      <th>435</th>\n",
       "      <td>3051</td>\n",
       "      <td>WINNEBAGO</td>\n",
       "      <td>WI</td>\n",
       "      <td>0.035</td>\n",
       "      <td>140320</td>\n",
       "      <td>4009.142860</td>\n",
       "      <td>136822</td>\n",
       "      <td>697</td>\n",
       "      <td>685</td>\n",
       "      <td>1728</td>\n",
       "      <td>...</td>\n",
       "      <td>24.995504</td>\n",
       "      <td>5.659847</td>\n",
       "      <td>133950</td>\n",
       "      <td>95.460376</td>\n",
       "      <td>8.804031</td>\n",
       "      <td>10.592031</td>\n",
       "      <td>8.660587</td>\n",
       "      <td>6.661094</td>\n",
       "      <td>1</td>\n",
       "      <td>HAU</td>\n",
       "    </tr>\n",
       "    <tr>\n",
       "      <th>436</th>\n",
       "      <td>3052</td>\n",
       "      <td>WOOD</td>\n",
       "      <td>WI</td>\n",
       "      <td>0.048</td>\n",
       "      <td>73605</td>\n",
       "      <td>1533.437500</td>\n",
       "      <td>72157</td>\n",
       "      <td>90</td>\n",
       "      <td>481</td>\n",
       "      <td>722</td>\n",
       "      <td>...</td>\n",
       "      <td>21.666382</td>\n",
       "      <td>4.583725</td>\n",
       "      <td>72685</td>\n",
       "      <td>98.750085</td>\n",
       "      <td>8.525831</td>\n",
       "      <td>11.162997</td>\n",
       "      <td>7.375656</td>\n",
       "      <td>7.882918</td>\n",
       "      <td>0</td>\n",
       "      <td>AAR</td>\n",
       "    </tr>\n",
       "  </tbody>\n",
       "</table>\n",
       "<p>5 rows × 28 columns</p>\n",
       "</div>"
      ],
      "text/plain": [
       "      PID     county state   area  poptotal   popdensity  popwhite  popblack  \\\n",
       "432  3048   WAUKESHA    WI  0.034    304715  8962.205880    298313      1096   \n",
       "433  3049    WAUPACA    WI  0.045     46104  1024.533330     45695        22   \n",
       "434  3050   WAUSHARA    WI  0.037     19385   523.918919     19094        29   \n",
       "435  3051  WINNEBAGO    WI  0.035    140320  4009.142860    136822       697   \n",
       "436  3052       WOOD    WI  0.048     73605  1533.437500     72157        90   \n",
       "\n",
       "     popamerindian  popasian  ...  percollege  percprof  poppovertyknown  \\\n",
       "432            672      2699  ...   35.396784  7.667090           299802   \n",
       "433            125        92  ...   16.549869  3.138596            44412   \n",
       "434             70        43  ...   15.064584  2.620907            19163   \n",
       "435            685      1728  ...   24.995504  5.659847           133950   \n",
       "436            481       722  ...   21.666382  4.583725            72685   \n",
       "\n",
       "     percpovertyknown  percbelowpoverty  percchildbelowpovert  \\\n",
       "432         98.387674          3.121060              3.785820   \n",
       "433         96.330036          8.488697             10.071411   \n",
       "434         98.854785         13.786985             20.050708   \n",
       "435         95.460376          8.804031             10.592031   \n",
       "436         98.750085          8.525831             11.162997   \n",
       "\n",
       "     percadultpoverty  percelderlypoverty  inmetro  category  \n",
       "432          2.590061            4.085479        1       HLU  \n",
       "433          6.953799           10.338641        0       AAR  \n",
       "434         11.695784           11.804558        0       AAR  \n",
       "435          8.660587            6.661094        1       HAU  \n",
       "436          7.375656            7.882918        0       AAR  \n",
       "\n",
       "[5 rows x 28 columns]"
      ]
     },
     "execution_count": 77,
     "metadata": {},
     "output_type": "execute_result"
    }
   ],
   "source": [
    "midwest.tail()"
   ]
  },
  {
   "cell_type": "code",
   "execution_count": 78,
   "id": "b49118ad-7cda-4611-9e4f-fb62979231e2",
   "metadata": {
    "tags": []
   },
   "outputs": [
    {
     "data": {
      "text/plain": [
       "(437, 28)"
      ]
     },
     "execution_count": 78,
     "metadata": {},
     "output_type": "execute_result"
    }
   ],
   "source": [
    "midwest.shape"
   ]
  },
  {
   "cell_type": "code",
   "execution_count": 79,
   "id": "c4ea9c6b-27f3-4189-a653-aa6b631db1ea",
   "metadata": {
    "tags": []
   },
   "outputs": [
    {
     "name": "stdout",
     "output_type": "stream",
     "text": [
      "<class 'pandas.core.frame.DataFrame'>\n",
      "RangeIndex: 437 entries, 0 to 436\n",
      "Data columns (total 28 columns):\n",
      " #   Column                Non-Null Count  Dtype  \n",
      "---  ------                --------------  -----  \n",
      " 0   PID                   437 non-null    int64  \n",
      " 1   county                437 non-null    object \n",
      " 2   state                 437 non-null    object \n",
      " 3   area                  437 non-null    float64\n",
      " 4   poptotal              437 non-null    int64  \n",
      " 5   popdensity            437 non-null    float64\n",
      " 6   popwhite              437 non-null    int64  \n",
      " 7   popblack              437 non-null    int64  \n",
      " 8   popamerindian         437 non-null    int64  \n",
      " 9   popasian              437 non-null    int64  \n",
      " 10  popother              437 non-null    int64  \n",
      " 11  percwhite             437 non-null    float64\n",
      " 12  percblack             437 non-null    float64\n",
      " 13  percamerindan         437 non-null    float64\n",
      " 14  percasian             437 non-null    float64\n",
      " 15  percother             437 non-null    float64\n",
      " 16  popadults             437 non-null    int64  \n",
      " 17  perchsd               437 non-null    float64\n",
      " 18  percollege            437 non-null    float64\n",
      " 19  percprof              437 non-null    float64\n",
      " 20  poppovertyknown       437 non-null    int64  \n",
      " 21  percpovertyknown      437 non-null    float64\n",
      " 22  percbelowpoverty      437 non-null    float64\n",
      " 23  percchildbelowpovert  437 non-null    float64\n",
      " 24  percadultpoverty      437 non-null    float64\n",
      " 25  percelderlypoverty    437 non-null    float64\n",
      " 26  inmetro               437 non-null    int64  \n",
      " 27  category              437 non-null    object \n",
      "dtypes: float64(15), int64(10), object(3)\n",
      "memory usage: 95.7+ KB\n"
     ]
    }
   ],
   "source": [
    "midwest.info()"
   ]
  },
  {
   "cell_type": "code",
   "execution_count": 80,
   "id": "7efde18d-700b-43f9-b053-8ae0ed319ea9",
   "metadata": {
    "tags": []
   },
   "outputs": [
    {
     "data": {
      "text/html": [
       "<div>\n",
       "<style scoped>\n",
       "    .dataframe tbody tr th:only-of-type {\n",
       "        vertical-align: middle;\n",
       "    }\n",
       "\n",
       "    .dataframe tbody tr th {\n",
       "        vertical-align: top;\n",
       "    }\n",
       "\n",
       "    .dataframe thead th {\n",
       "        text-align: right;\n",
       "    }\n",
       "</style>\n",
       "<table border=\"1\" class=\"dataframe\">\n",
       "  <thead>\n",
       "    <tr style=\"text-align: right;\">\n",
       "      <th></th>\n",
       "      <th>PID</th>\n",
       "      <th>area</th>\n",
       "      <th>poptotal</th>\n",
       "      <th>popdensity</th>\n",
       "      <th>popwhite</th>\n",
       "      <th>popblack</th>\n",
       "      <th>popamerindian</th>\n",
       "      <th>popasian</th>\n",
       "      <th>popother</th>\n",
       "      <th>percwhite</th>\n",
       "      <th>...</th>\n",
       "      <th>perchsd</th>\n",
       "      <th>percollege</th>\n",
       "      <th>percprof</th>\n",
       "      <th>poppovertyknown</th>\n",
       "      <th>percpovertyknown</th>\n",
       "      <th>percbelowpoverty</th>\n",
       "      <th>percchildbelowpovert</th>\n",
       "      <th>percadultpoverty</th>\n",
       "      <th>percelderlypoverty</th>\n",
       "      <th>inmetro</th>\n",
       "    </tr>\n",
       "  </thead>\n",
       "  <tbody>\n",
       "    <tr>\n",
       "      <th>count</th>\n",
       "      <td>437.000000</td>\n",
       "      <td>437.000000</td>\n",
       "      <td>4.370000e+02</td>\n",
       "      <td>437.000000</td>\n",
       "      <td>4.370000e+02</td>\n",
       "      <td>4.370000e+02</td>\n",
       "      <td>437.000000</td>\n",
       "      <td>437.000000</td>\n",
       "      <td>437.000000</td>\n",
       "      <td>437.000000</td>\n",
       "      <td>...</td>\n",
       "      <td>437.000000</td>\n",
       "      <td>437.000000</td>\n",
       "      <td>437.000000</td>\n",
       "      <td>4.370000e+02</td>\n",
       "      <td>437.000000</td>\n",
       "      <td>437.000000</td>\n",
       "      <td>437.000000</td>\n",
       "      <td>437.000000</td>\n",
       "      <td>437.000000</td>\n",
       "      <td>437.000000</td>\n",
       "    </tr>\n",
       "    <tr>\n",
       "      <th>mean</th>\n",
       "      <td>1437.338673</td>\n",
       "      <td>0.033169</td>\n",
       "      <td>9.613030e+04</td>\n",
       "      <td>3097.742985</td>\n",
       "      <td>8.183992e+04</td>\n",
       "      <td>1.102388e+04</td>\n",
       "      <td>343.109840</td>\n",
       "      <td>1310.464531</td>\n",
       "      <td>1612.931350</td>\n",
       "      <td>95.558441</td>\n",
       "      <td>...</td>\n",
       "      <td>73.965546</td>\n",
       "      <td>18.272736</td>\n",
       "      <td>4.447259</td>\n",
       "      <td>9.364228e+04</td>\n",
       "      <td>97.110267</td>\n",
       "      <td>12.510505</td>\n",
       "      <td>16.447464</td>\n",
       "      <td>10.918798</td>\n",
       "      <td>11.389043</td>\n",
       "      <td>0.343249</td>\n",
       "    </tr>\n",
       "    <tr>\n",
       "      <th>std</th>\n",
       "      <td>876.390266</td>\n",
       "      <td>0.014679</td>\n",
       "      <td>2.981705e+05</td>\n",
       "      <td>7664.751786</td>\n",
       "      <td>2.001966e+05</td>\n",
       "      <td>7.895827e+04</td>\n",
       "      <td>868.926751</td>\n",
       "      <td>9518.394189</td>\n",
       "      <td>18526.540699</td>\n",
       "      <td>7.087358</td>\n",
       "      <td>...</td>\n",
       "      <td>5.843177</td>\n",
       "      <td>6.261908</td>\n",
       "      <td>2.408427</td>\n",
       "      <td>2.932351e+05</td>\n",
       "      <td>2.749863</td>\n",
       "      <td>5.150155</td>\n",
       "      <td>7.228634</td>\n",
       "      <td>5.109166</td>\n",
       "      <td>3.661259</td>\n",
       "      <td>0.475338</td>\n",
       "    </tr>\n",
       "    <tr>\n",
       "      <th>min</th>\n",
       "      <td>561.000000</td>\n",
       "      <td>0.005000</td>\n",
       "      <td>1.701000e+03</td>\n",
       "      <td>85.050000</td>\n",
       "      <td>4.160000e+02</td>\n",
       "      <td>0.000000e+00</td>\n",
       "      <td>4.000000</td>\n",
       "      <td>0.000000</td>\n",
       "      <td>0.000000</td>\n",
       "      <td>10.694087</td>\n",
       "      <td>...</td>\n",
       "      <td>46.912261</td>\n",
       "      <td>7.336108</td>\n",
       "      <td>0.520291</td>\n",
       "      <td>1.696000e+03</td>\n",
       "      <td>80.902441</td>\n",
       "      <td>2.180168</td>\n",
       "      <td>1.918955</td>\n",
       "      <td>1.938504</td>\n",
       "      <td>3.547067</td>\n",
       "      <td>0.000000</td>\n",
       "    </tr>\n",
       "    <tr>\n",
       "      <th>25%</th>\n",
       "      <td>670.000000</td>\n",
       "      <td>0.024000</td>\n",
       "      <td>1.884000e+04</td>\n",
       "      <td>622.407407</td>\n",
       "      <td>1.863000e+04</td>\n",
       "      <td>2.900000e+01</td>\n",
       "      <td>44.000000</td>\n",
       "      <td>35.000000</td>\n",
       "      <td>20.000000</td>\n",
       "      <td>94.886032</td>\n",
       "      <td>...</td>\n",
       "      <td>71.325329</td>\n",
       "      <td>14.113725</td>\n",
       "      <td>2.997957</td>\n",
       "      <td>1.836400e+04</td>\n",
       "      <td>96.894572</td>\n",
       "      <td>9.198715</td>\n",
       "      <td>11.624088</td>\n",
       "      <td>7.668009</td>\n",
       "      <td>8.911763</td>\n",
       "      <td>0.000000</td>\n",
       "    </tr>\n",
       "    <tr>\n",
       "      <th>50%</th>\n",
       "      <td>1221.000000</td>\n",
       "      <td>0.030000</td>\n",
       "      <td>3.532400e+04</td>\n",
       "      <td>1156.208330</td>\n",
       "      <td>3.447100e+04</td>\n",
       "      <td>2.010000e+02</td>\n",
       "      <td>94.000000</td>\n",
       "      <td>102.000000</td>\n",
       "      <td>66.000000</td>\n",
       "      <td>98.032742</td>\n",
       "      <td>...</td>\n",
       "      <td>74.246891</td>\n",
       "      <td>16.797562</td>\n",
       "      <td>3.814239</td>\n",
       "      <td>3.378800e+04</td>\n",
       "      <td>98.169562</td>\n",
       "      <td>11.822313</td>\n",
       "      <td>15.270164</td>\n",
       "      <td>10.007610</td>\n",
       "      <td>10.869119</td>\n",
       "      <td>0.000000</td>\n",
       "    </tr>\n",
       "    <tr>\n",
       "      <th>75%</th>\n",
       "      <td>2059.000000</td>\n",
       "      <td>0.038000</td>\n",
       "      <td>7.565100e+04</td>\n",
       "      <td>2330.000000</td>\n",
       "      <td>7.296800e+04</td>\n",
       "      <td>1.291000e+03</td>\n",
       "      <td>288.000000</td>\n",
       "      <td>401.000000</td>\n",
       "      <td>345.000000</td>\n",
       "      <td>99.074935</td>\n",
       "      <td>...</td>\n",
       "      <td>77.195345</td>\n",
       "      <td>20.549893</td>\n",
       "      <td>4.949324</td>\n",
       "      <td>7.284000e+04</td>\n",
       "      <td>98.598636</td>\n",
       "      <td>15.133226</td>\n",
       "      <td>20.351878</td>\n",
       "      <td>13.182182</td>\n",
       "      <td>13.412162</td>\n",
       "      <td>1.000000</td>\n",
       "    </tr>\n",
       "    <tr>\n",
       "      <th>max</th>\n",
       "      <td>3052.000000</td>\n",
       "      <td>0.110000</td>\n",
       "      <td>5.105067e+06</td>\n",
       "      <td>88018.396600</td>\n",
       "      <td>3.204947e+06</td>\n",
       "      <td>1.317147e+06</td>\n",
       "      <td>10289.000000</td>\n",
       "      <td>188565.000000</td>\n",
       "      <td>384119.000000</td>\n",
       "      <td>99.822821</td>\n",
       "      <td>...</td>\n",
       "      <td>88.898674</td>\n",
       "      <td>48.078510</td>\n",
       "      <td>20.791321</td>\n",
       "      <td>5.023523e+06</td>\n",
       "      <td>99.860384</td>\n",
       "      <td>48.691099</td>\n",
       "      <td>64.308477</td>\n",
       "      <td>43.312464</td>\n",
       "      <td>31.161972</td>\n",
       "      <td>1.000000</td>\n",
       "    </tr>\n",
       "  </tbody>\n",
       "</table>\n",
       "<p>8 rows × 25 columns</p>\n",
       "</div>"
      ],
      "text/plain": [
       "               PID        area      poptotal    popdensity      popwhite  \\\n",
       "count   437.000000  437.000000  4.370000e+02    437.000000  4.370000e+02   \n",
       "mean   1437.338673    0.033169  9.613030e+04   3097.742985  8.183992e+04   \n",
       "std     876.390266    0.014679  2.981705e+05   7664.751786  2.001966e+05   \n",
       "min     561.000000    0.005000  1.701000e+03     85.050000  4.160000e+02   \n",
       "25%     670.000000    0.024000  1.884000e+04    622.407407  1.863000e+04   \n",
       "50%    1221.000000    0.030000  3.532400e+04   1156.208330  3.447100e+04   \n",
       "75%    2059.000000    0.038000  7.565100e+04   2330.000000  7.296800e+04   \n",
       "max    3052.000000    0.110000  5.105067e+06  88018.396600  3.204947e+06   \n",
       "\n",
       "           popblack  popamerindian       popasian       popother   percwhite  \\\n",
       "count  4.370000e+02     437.000000     437.000000     437.000000  437.000000   \n",
       "mean   1.102388e+04     343.109840    1310.464531    1612.931350   95.558441   \n",
       "std    7.895827e+04     868.926751    9518.394189   18526.540699    7.087358   \n",
       "min    0.000000e+00       4.000000       0.000000       0.000000   10.694087   \n",
       "25%    2.900000e+01      44.000000      35.000000      20.000000   94.886032   \n",
       "50%    2.010000e+02      94.000000     102.000000      66.000000   98.032742   \n",
       "75%    1.291000e+03     288.000000     401.000000     345.000000   99.074935   \n",
       "max    1.317147e+06   10289.000000  188565.000000  384119.000000   99.822821   \n",
       "\n",
       "       ...     perchsd  percollege    percprof  poppovertyknown  \\\n",
       "count  ...  437.000000  437.000000  437.000000     4.370000e+02   \n",
       "mean   ...   73.965546   18.272736    4.447259     9.364228e+04   \n",
       "std    ...    5.843177    6.261908    2.408427     2.932351e+05   \n",
       "min    ...   46.912261    7.336108    0.520291     1.696000e+03   \n",
       "25%    ...   71.325329   14.113725    2.997957     1.836400e+04   \n",
       "50%    ...   74.246891   16.797562    3.814239     3.378800e+04   \n",
       "75%    ...   77.195345   20.549893    4.949324     7.284000e+04   \n",
       "max    ...   88.898674   48.078510   20.791321     5.023523e+06   \n",
       "\n",
       "       percpovertyknown  percbelowpoverty  percchildbelowpovert  \\\n",
       "count        437.000000        437.000000            437.000000   \n",
       "mean          97.110267         12.510505             16.447464   \n",
       "std            2.749863          5.150155              7.228634   \n",
       "min           80.902441          2.180168              1.918955   \n",
       "25%           96.894572          9.198715             11.624088   \n",
       "50%           98.169562         11.822313             15.270164   \n",
       "75%           98.598636         15.133226             20.351878   \n",
       "max           99.860384         48.691099             64.308477   \n",
       "\n",
       "       percadultpoverty  percelderlypoverty     inmetro  \n",
       "count        437.000000          437.000000  437.000000  \n",
       "mean          10.918798           11.389043    0.343249  \n",
       "std            5.109166            3.661259    0.475338  \n",
       "min            1.938504            3.547067    0.000000  \n",
       "25%            7.668009            8.911763    0.000000  \n",
       "50%           10.007610           10.869119    0.000000  \n",
       "75%           13.182182           13.412162    1.000000  \n",
       "max           43.312464           31.161972    1.000000  \n",
       "\n",
       "[8 rows x 25 columns]"
      ]
     },
     "execution_count": 80,
     "metadata": {},
     "output_type": "execute_result"
    }
   ],
   "source": [
    "midwest.describe()"
   ]
  },
  {
   "cell_type": "code",
   "execution_count": 90,
   "id": "74a40400-6c20-4afb-967d-861aa2049527",
   "metadata": {
    "tags": []
   },
   "outputs": [],
   "source": [
    "midwest=midwest.rename(columns = {'poptotal':'total','popasian':'asian'})"
   ]
  },
  {
   "cell_type": "code",
   "execution_count": 91,
   "id": "132b69a2-3987-4e79-be05-6b4fec625668",
   "metadata": {
    "tags": []
   },
   "outputs": [
    {
     "name": "stdout",
     "output_type": "stream",
     "text": [
      "<class 'pandas.core.frame.DataFrame'>\n",
      "RangeIndex: 437 entries, 0 to 436\n",
      "Data columns (total 28 columns):\n",
      " #   Column                Non-Null Count  Dtype  \n",
      "---  ------                --------------  -----  \n",
      " 0   PID                   437 non-null    int64  \n",
      " 1   county                437 non-null    object \n",
      " 2   state                 437 non-null    object \n",
      " 3   area                  437 non-null    float64\n",
      " 4   total                 437 non-null    int64  \n",
      " 5   popdensity            437 non-null    float64\n",
      " 6   popwhite              437 non-null    int64  \n",
      " 7   popblack              437 non-null    int64  \n",
      " 8   popamerindian         437 non-null    int64  \n",
      " 9   asian                 437 non-null    int64  \n",
      " 10  popother              437 non-null    int64  \n",
      " 11  percwhite             437 non-null    float64\n",
      " 12  percblack             437 non-null    float64\n",
      " 13  percamerindan         437 non-null    float64\n",
      " 14  percasian             437 non-null    float64\n",
      " 15  percother             437 non-null    float64\n",
      " 16  popadults             437 non-null    int64  \n",
      " 17  perchsd               437 non-null    float64\n",
      " 18  percollege            437 non-null    float64\n",
      " 19  percprof              437 non-null    float64\n",
      " 20  poppovertyknown       437 non-null    int64  \n",
      " 21  percpovertyknown      437 non-null    float64\n",
      " 22  percbelowpoverty      437 non-null    float64\n",
      " 23  percchildbelowpovert  437 non-null    float64\n",
      " 24  percadultpoverty      437 non-null    float64\n",
      " 25  percelderlypoverty    437 non-null    float64\n",
      " 26  inmetro               437 non-null    int64  \n",
      " 27  category              437 non-null    object \n",
      "dtypes: float64(15), int64(10), object(3)\n",
      "memory usage: 95.7+ KB\n"
     ]
    }
   ],
   "source": [
    "midwest.info()"
   ]
  },
  {
   "cell_type": "code",
   "execution_count": 92,
   "id": "64eceb33-2d06-49dd-9547-7c52c0862f54",
   "metadata": {
    "tags": []
   },
   "outputs": [],
   "source": [
    "midwest['ratio'] = midwest['asian'] / midwest['total'] * 100"
   ]
  },
  {
   "cell_type": "code",
   "execution_count": 93,
   "id": "e985c11a-8cda-4531-a7cb-71f16ea9af2c",
   "metadata": {
    "tags": []
   },
   "outputs": [
    {
     "data": {
      "text/plain": [
       "<Axes: ylabel='Frequency'>"
      ]
     },
     "execution_count": 93,
     "metadata": {},
     "output_type": "execute_result"
    },
    {
     "data": {
      "image/png": "[encoded data removed]",
      "text/plain": [
       "<Figure size 640x480 with 1 Axes>"
      ]
     },
     "metadata": {},
     "output_type": "display_data"
    }
   ],
   "source": [
    "midwest['ratio'].plot.hist()"
   ]
  },
  {
   "cell_type": "code",
   "execution_count": 94,
   "id": "42a25036-5b8e-4266-8d7b-d7901a09b443",
   "metadata": {
    "tags": []
   },
   "outputs": [],
   "source": [
    "import numpy as np"
   ]
  },
  {
   "cell_type": "code",
   "execution_count": 96,
   "id": "ef0e70b1-981e-4836-bee9-b9bad7302ff3",
   "metadata": {
    "tags": []
   },
   "outputs": [],
   "source": [
    "midwest['group']=np.where(midwest['ratio'] > midwest['ratio'].mean(),'large','small')"
   ]
  },
  {
   "cell_type": "code",
   "execution_count": 97,
   "id": "d8061f05-f74e-4459-b89f-b10cc31a1e20",
   "metadata": {
    "tags": []
   },
   "outputs": [
    {
     "name": "stdout",
     "output_type": "stream",
     "text": [
      "<class 'pandas.core.frame.DataFrame'>\n",
      "RangeIndex: 437 entries, 0 to 436\n",
      "Data columns (total 30 columns):\n",
      " #   Column                Non-Null Count  Dtype  \n",
      "---  ------                --------------  -----  \n",
      " 0   PID                   437 non-null    int64  \n",
      " 1   county                437 non-null    object \n",
      " 2   state                 437 non-null    object \n",
      " 3   area                  437 non-null    float64\n",
      " 4   total                 437 non-null    int64  \n",
      " 5   popdensity            437 non-null    float64\n",
      " 6   popwhite              437 non-null    int64  \n",
      " 7   popblack              437 non-null    int64  \n",
      " 8   popamerindian         437 non-null    int64  \n",
      " 9   asian                 437 non-null    int64  \n",
      " 10  popother              437 non-null    int64  \n",
      " 11  percwhite             437 non-null    float64\n",
      " 12  percblack             437 non-null    float64\n",
      " 13  percamerindan         437 non-null    float64\n",
      " 14  percasian             437 non-null    float64\n",
      " 15  percother             437 non-null    float64\n",
      " 16  popadults             437 non-null    int64  \n",
      " 17  perchsd               437 non-null    float64\n",
      " 18  percollege            437 non-null    float64\n",
      " 19  percprof              437 non-null    float64\n",
      " 20  poppovertyknown       437 non-null    int64  \n",
      " 21  percpovertyknown      437 non-null    float64\n",
      " 22  percbelowpoverty      437 non-null    float64\n",
      " 23  percchildbelowpovert  437 non-null    float64\n",
      " 24  percadultpoverty      437 non-null    float64\n",
      " 25  percelderlypoverty    437 non-null    float64\n",
      " 26  inmetro               437 non-null    int64  \n",
      " 27  category              437 non-null    object \n",
      " 28  ratio                 437 non-null    float64\n",
      " 29  group                 437 non-null    object \n",
      "dtypes: float64(16), int64(10), object(4)\n",
      "memory usage: 102.6+ KB\n"
     ]
    }
   ],
   "source": [
    "midwest.info()"
   ]
  },
  {
   "cell_type": "code",
   "execution_count": 101,
   "id": "08887fc2-aa08-4802-9598-8d9e801ee05e",
   "metadata": {
    "tags": []
   },
   "outputs": [
    {
     "data": {
      "text/plain": [
       "<Axes: xlabel='group'>"
      ]
     },
     "execution_count": 101,
     "metadata": {},
     "output_type": "execute_result"
    },
    {
     "data": {
      "image/png": "[encoded data removed]",
      "text/plain": [
       "<Figure size 640x480 with 1 Axes>"
      ]
     },
     "metadata": {},
     "output_type": "display_data"
    }
   ],
   "source": [
    "midwest['group'].value_counts().sort_index().plot.bar(rot=0)"
   ]
  },
  {
   "cell_type": "code",
   "execution_count": null,
   "id": "99b266e4-af2b-4c21-8a59-4c2d782427ec",
   "metadata": {},
   "outputs": [],
   "source": []
  }
 ],
 "metadata": {
  "kernelspec": {
   "display_name": "Python 3 (ipykernel)",
   "language": "python",
   "name": "python3"
  },
  "language_info": {
   "codemirror_mode": {
    "name": "ipython",
    "version": 3
   },
   "file_extension": ".py",
   "mimetype": "text/x-python",
   "name": "python",
   "nbconvert_exporter": "python",
   "pygments_lexer": "ipython3",
   "version": "3.11.5"
  }
 },
 "nbformat": 4,
 "nbformat_minor": 5
}
